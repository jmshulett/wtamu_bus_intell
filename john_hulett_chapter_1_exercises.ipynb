{
 "cells": [
  {
   "cell_type": "markdown",
   "metadata": {},
   "source": [
    "# Coding exercises\n",
    "Exercises 1-3 are thought exercises that don't require coding. \n",
    "\n",
    "## Exercise 4: Generate the data by running this cell\n",
    "This will give you a list of numbers to work with in the remaining exercises."
   ]
  },
  {
   "cell_type": "code",
   "execution_count": 1,
   "metadata": {},
   "outputs": [],
   "source": [
    "import random\n",
    "random.seed(0)\n",
    "salaries = [round(random.random()*1000000, -3) for _ in range(100)]"
   ]
  },
  {
   "cell_type": "markdown",
   "metadata": {},
   "source": [
    "## Exercise 5: Calculating statistics and verifying\n",
    "### mean"
   ]
  },
  {
   "cell_type": "code",
   "execution_count": 3,
   "metadata": {},
   "outputs": [
    {
     "data": {
      "text/plain": [
       "585690.0"
      ]
     },
     "execution_count": 3,
     "metadata": {},
     "output_type": "execute_result"
    }
   ],
   "source": [
    "import numpy as np\n",
    "np.mean(salaries)"
   ]
  },
  {
   "cell_type": "markdown",
   "metadata": {},
   "source": [
    "### median"
   ]
  },
  {
   "cell_type": "code",
   "execution_count": 4,
   "metadata": {},
   "outputs": [
    {
     "data": {
      "text/plain": [
       "589000.0"
      ]
     },
     "execution_count": 4,
     "metadata": {},
     "output_type": "execute_result"
    }
   ],
   "source": [
    "np.median(salaries)"
   ]
  },
  {
   "cell_type": "markdown",
   "metadata": {},
   "source": [
    "### mode"
   ]
  },
  {
   "cell_type": "code",
   "execution_count": 5,
   "metadata": {},
   "outputs": [
    {
     "data": {
      "text/plain": [
       "ModeResult(mode=array([477000.]), count=array([3]))"
      ]
     },
     "execution_count": 5,
     "metadata": {},
     "output_type": "execute_result"
    }
   ],
   "source": [
    "from scipy import stats\n",
    "import pandas as pd\n",
    "stats.mode(salaries)"
   ]
  },
  {
   "cell_type": "markdown",
   "metadata": {},
   "source": [
    "### sample variance\n",
    "Remember to use Bessel's correction."
   ]
  },
  {
   "cell_type": "code",
   "execution_count": 6,
   "metadata": {},
   "outputs": [
    {
     "name": "stdout",
     "output_type": "stream",
     "text": [
      "0    6.995741e+10\n",
      "dtype: float64\n"
     ]
    }
   ],
   "source": [
    "df = pd.DataFrame(salaries)\n",
    "print(df.var(ddof=0))"
   ]
  },
  {
   "cell_type": "markdown",
   "metadata": {},
   "source": [
    "### sample standard deviation\n",
    "Remember to use Bessel's correction."
   ]
  },
  {
   "cell_type": "code",
   "execution_count": 7,
   "metadata": {},
   "outputs": [
    {
     "name": "stdout",
     "output_type": "stream",
     "text": [
      "0    264494.638698\n",
      "dtype: float64\n"
     ]
    }
   ],
   "source": [
    "print(df.std(ddof=0))"
   ]
  },
  {
   "cell_type": "markdown",
   "metadata": {},
   "source": [
    "## Exercise 6: Calculating more statistics\n",
    "### range"
   ]
  },
  {
   "cell_type": "code",
   "execution_count": 8,
   "metadata": {},
   "outputs": [
    {
     "name": "stdout",
     "output_type": "stream",
     "text": [
      "995000.0\n"
     ]
    }
   ],
   "source": [
    "range = max(salaries) - min(salaries)\n",
    "print(range)"
   ]
  },
  {
   "cell_type": "markdown",
   "metadata": {},
   "source": [
    "### coefficient of variation"
   ]
  },
  {
   "cell_type": "code",
   "execution_count": 9,
   "metadata": {},
   "outputs": [
    {
     "name": "stdout",
     "output_type": "stream",
     "text": [
      "0    45.386999\n",
      "dtype: float64\n"
     ]
    }
   ],
   "source": [
    "cv = df.std(ddof=1) / df.mean() * 100 \n",
    "print(cv)"
   ]
  },
  {
   "cell_type": "markdown",
   "metadata": {},
   "source": [
    "### interquartile range"
   ]
  },
  {
   "cell_type": "code",
   "execution_count": 10,
   "metadata": {},
   "outputs": [
    {
     "data": {
      "text/plain": [
       "array([816750., 403500.])"
      ]
     },
     "execution_count": 10,
     "metadata": {},
     "output_type": "execute_result"
    }
   ],
   "source": [
    "np.percentile(df, [75 ,25])\n"
   ]
  },
  {
   "cell_type": "markdown",
   "metadata": {},
   "source": [
    "### quartile coefficent of dispersion"
   ]
  },
  {
   "cell_type": "code",
   "execution_count": 11,
   "metadata": {},
   "outputs": [
    {
     "name": "stdout",
     "output_type": "stream",
     "text": [
      "105500.0\n"
     ]
    }
   ],
   "source": [
    "# First quartile (Q1)\n",
    "Q1 = np.median(df[:10])\n",
    "  \n",
    "# Third quartile (Q3)\n",
    "Q3 = np.median(df[10:])\n",
    "  \n",
    "# Interquartile range (IQR)\n",
    "IQR = Q3 - Q1\n",
    "  \n",
    "print(IQR)"
   ]
  },
  {
   "cell_type": "markdown",
   "metadata": {},
   "source": [
    "## Exercise 7: Scaling data\n",
    "### min-max scaling"
   ]
  },
  {
   "cell_type": "code",
   "execution_count": 28,
   "metadata": {},
   "outputs": [
    {
     "data": {
      "text/html": [
       "<div>\n",
       "<style scoped>\n",
       "    .dataframe tbody tr th:only-of-type {\n",
       "        vertical-align: middle;\n",
       "    }\n",
       "\n",
       "    .dataframe tbody tr th {\n",
       "        vertical-align: top;\n",
       "    }\n",
       "\n",
       "    .dataframe thead th {\n",
       "        text-align: right;\n",
       "    }\n",
       "</style>\n",
       "<table border=\"1\" class=\"dataframe\">\n",
       "  <thead>\n",
       "    <tr style=\"text-align: right;\">\n",
       "      <th></th>\n",
       "      <th>Salaries</th>\n",
       "    </tr>\n",
       "  </thead>\n",
       "  <tbody>\n",
       "    <tr>\n",
       "      <td>0</td>\n",
       "      <td>0.847236</td>\n",
       "    </tr>\n",
       "    <tr>\n",
       "      <td>1</td>\n",
       "      <td>0.760804</td>\n",
       "    </tr>\n",
       "    <tr>\n",
       "      <td>2</td>\n",
       "      <td>0.422111</td>\n",
       "    </tr>\n",
       "    <tr>\n",
       "      <td>3</td>\n",
       "      <td>0.259296</td>\n",
       "    </tr>\n",
       "    <tr>\n",
       "      <td>4</td>\n",
       "      <td>0.512563</td>\n",
       "    </tr>\n",
       "    <tr>\n",
       "      <td>...</td>\n",
       "      <td>...</td>\n",
       "    </tr>\n",
       "    <tr>\n",
       "      <td>95</td>\n",
       "      <td>0.920603</td>\n",
       "    </tr>\n",
       "    <tr>\n",
       "      <td>96</td>\n",
       "      <td>0.795980</td>\n",
       "    </tr>\n",
       "    <tr>\n",
       "      <td>97</td>\n",
       "      <td>0.081407</td>\n",
       "    </tr>\n",
       "    <tr>\n",
       "      <td>98</td>\n",
       "      <td>0.615075</td>\n",
       "    </tr>\n",
       "    <tr>\n",
       "      <td>99</td>\n",
       "      <td>0.487437</td>\n",
       "    </tr>\n",
       "  </tbody>\n",
       "</table>\n",
       "<p>100 rows × 1 columns</p>\n",
       "</div>"
      ],
      "text/plain": [
       "    Salaries\n",
       "0   0.847236\n",
       "1   0.760804\n",
       "2   0.422111\n",
       "3   0.259296\n",
       "4   0.512563\n",
       "..       ...\n",
       "95  0.920603\n",
       "96  0.795980\n",
       "97  0.081407\n",
       "98  0.615075\n",
       "99  0.487437\n",
       "\n",
       "[100 rows x 1 columns]"
      ]
     },
     "execution_count": 28,
     "metadata": {},
     "output_type": "execute_result"
    }
   ],
   "source": [
    "from sklearn.preprocessing import MinMaxScaler\n",
    "\n",
    "\n",
    "scaler = MinMaxScaler()\n",
    "df.rename(columns={list(df)[0]:'Salaries'}, inplace=True)\n",
    "\n",
    "df[['Salaries']] = scaler.fit_transform(df[['Salaries']])\n",
    "\n",
    "df"
   ]
  },
  {
   "cell_type": "markdown",
   "metadata": {},
   "source": [
    "### standardizing"
   ]
  },
  {
   "cell_type": "code",
   "execution_count": 33,
   "metadata": {},
   "outputs": [
    {
     "data": {
      "text/plain": [
       "array([[ 0.97661715],\n",
       "       [ 0.65146878],\n",
       "       [-0.62265912],\n",
       "       [-1.23514791],\n",
       "       [-0.28238758],\n",
       "       [-0.68315184],\n",
       "       [ 0.74976945],\n",
       "       [-1.06879293],\n",
       "       [-0.41093461],\n",
       "       [-0.01017034],\n",
       "       [ 1.21858803],\n",
       "       [-0.30507235],\n",
       "       [-1.14818962],\n",
       "       [ 0.64390719],\n",
       "       [ 0.12215749],\n",
       "       [-1.26539427],\n",
       "       [ 1.22614962],\n",
       "       [ 1.50214765],\n",
       "       [ 0.84807012],\n",
       "       [ 1.19590326],\n",
       "       [-1.04232737],\n",
       "       [ 0.54560652],\n",
       "       [ 1.18456087],\n",
       "       [ 0.37168995],\n",
       "       [-0.42983858],\n",
       "       [-1.83251351],\n",
       "       [-0.57350879],\n",
       "       [ 0.09569192],\n",
       "       [ 1.237492  ],\n",
       "       [ 1.44165493],\n",
       "       [-0.41093461],\n",
       "       [ 1.05601384],\n",
       "       [-1.23136711],\n",
       "       [ 0.82916615],\n",
       "       [-0.13871737],\n",
       "       [-2.16144268],\n",
       "       [ 0.50779857],\n",
       "       [-0.70583661],\n",
       "       [ 0.90478204],\n",
       "       [ 0.31119723],\n",
       "       [-2.21059301],\n",
       "       [-0.34666109],\n",
       "       [ 1.06735623],\n",
       "       [-1.29185983],\n",
       "       [-0.98561544],\n",
       "       [ 1.07491782],\n",
       "       [-1.49224197],\n",
       "       [-0.06688226],\n",
       "       [-1.31076381],\n",
       "       [ 1.44543573],\n",
       "       [ 0.82160456],\n",
       "       [-0.52057766],\n",
       "       [-1.91191021],\n",
       "       [-1.00451942],\n",
       "       [-0.29372996],\n",
       "       [ 1.3131079 ],\n",
       "       [-1.80226716],\n",
       "       [-0.13115578],\n",
       "       [ 0.45864824],\n",
       "       [-0.14627896],\n",
       "       [ 0.8631933 ],\n",
       "       [-0.17274452],\n",
       "       [ 1.43031255],\n",
       "       [ 0.06544556],\n",
       "       [ 0.00873364],\n",
       "       [-0.53192004],\n",
       "       [ 0.03898   ],\n",
       "       [-0.75876774],\n",
       "       [-0.0366359 ],\n",
       "       [-1.11794327],\n",
       "       [-1.49980356],\n",
       "       [-1.50736515],\n",
       "       [ 0.10325351],\n",
       "       [ 0.26960849],\n",
       "       [-0.41093461],\n",
       "       [-1.87410226],\n",
       "       [ 0.65146878],\n",
       "       [ 1.10138338],\n",
       "       [ 1.27529995],\n",
       "       [ 0.96905556],\n",
       "       [ 1.18078008],\n",
       "       [ 1.27529995],\n",
       "       [-0.16896373],\n",
       "       [-0.73608297],\n",
       "       [ 0.45108665],\n",
       "       [-1.17087439],\n",
       "       [ 0.85563171],\n",
       "       [ 0.99552112],\n",
       "       [ 1.16943769],\n",
       "       [ 0.01629523],\n",
       "       [ 1.37738142],\n",
       "       [-0.02151272],\n",
       "       [-0.50923527],\n",
       "       [ 0.28095087],\n",
       "       [ 1.55129798],\n",
       "       [ 1.25261518],\n",
       "       [ 0.78379661],\n",
       "       [-1.90434862],\n",
       "       [ 0.10325351],\n",
       "       [-0.37690745]])"
      ]
     },
     "execution_count": 33,
     "metadata": {},
     "output_type": "execute_result"
    }
   ],
   "source": [
    "from sklearn.preprocessing import StandardScaler\n",
    "scaler = StandardScaler()\n",
    "sd = scaler.fit_transform(df)\n",
    "sd"
   ]
  },
  {
   "cell_type": "markdown",
   "metadata": {},
   "source": [
    "## Exercise 8: Calculating covariance and correlation\n",
    "### covariance"
   ]
  },
  {
   "cell_type": "code",
   "execution_count": 34,
   "metadata": {},
   "outputs": [
    {
     "name": "stdout",
     "output_type": "stream",
     "text": [
      "          Salaries\n",
      "Salaries  0.071376\n"
     ]
    }
   ],
   "source": [
    "print(df.cov())"
   ]
  },
  {
   "cell_type": "markdown",
   "metadata": {},
   "source": [
    "### Pearson correlation coefficient ($\\rho$)"
   ]
  },
  {
   "cell_type": "code",
   "execution_count": 36,
   "metadata": {},
   "outputs": [
    {
     "data": {
      "text/html": [
       "<div>\n",
       "<style scoped>\n",
       "    .dataframe tbody tr th:only-of-type {\n",
       "        vertical-align: middle;\n",
       "    }\n",
       "\n",
       "    .dataframe tbody tr th {\n",
       "        vertical-align: top;\n",
       "    }\n",
       "\n",
       "    .dataframe thead th {\n",
       "        text-align: right;\n",
       "    }\n",
       "</style>\n",
       "<table border=\"1\" class=\"dataframe\">\n",
       "  <thead>\n",
       "    <tr style=\"text-align: right;\">\n",
       "      <th></th>\n",
       "      <th>Salaries</th>\n",
       "    </tr>\n",
       "  </thead>\n",
       "  <tbody>\n",
       "    <tr>\n",
       "      <td>Salaries</td>\n",
       "      <td>1.0</td>\n",
       "    </tr>\n",
       "  </tbody>\n",
       "</table>\n",
       "</div>"
      ],
      "text/plain": [
       "          Salaries\n",
       "Salaries       1.0"
      ]
     },
     "execution_count": 36,
     "metadata": {},
     "output_type": "execute_result"
    }
   ],
   "source": [
    "df.corr(method='pearson')"
   ]
  }
 ],
 "metadata": {
  "kernelspec": {
   "display_name": "Python 3",
   "language": "python",
   "name": "python3"
  },
  "language_info": {
   "codemirror_mode": {
    "name": "ipython",
    "version": 3
   },
   "file_extension": ".py",
   "mimetype": "text/x-python",
   "name": "python",
   "nbconvert_exporter": "python",
   "pygments_lexer": "ipython3",
   "version": "3.7.4"
  }
 },
 "nbformat": 4,
 "nbformat_minor": 2
}
